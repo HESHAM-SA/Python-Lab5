{
 "cells": [
  {
   "cell_type": "code",
   "execution_count": 98,
   "id": "77eeb6cf",
   "metadata": {},
   "outputs": [
    {
     "name": "stdout",
     "output_type": "stream",
     "text": [
      "enter your number: 5\n",
      "[5, 4, 3, 2, 1, 4, 3, 2, 1, 3, 2, 1, 2, 1, 1]\n"
     ]
    }
   ],
   "source": [
    "my_list = []\n",
    "my_new_list = []\n",
    "\n",
    "for i in range(int(input('enter your number: '))):\n",
    "    my_list.append(i+1)\n",
    "my_list.reverse()\n",
    "\n",
    "while True:\n",
    "    my_new_list.extend(my_list)\n",
    "    my_list.pop(0)l  \n",
    "    if len(my_list) == 0:\n",
    "        break\n",
    "\n",
    "print(my_new_list)\n"
   ]
  },
  {
   "cell_type": "code",
   "execution_count": 92,
   "id": "b4b8abd7",
   "metadata": {},
   "outputs": [
    {
     "name": "stdout",
     "output_type": "stream",
     "text": [
      "4\n"
     ]
    }
   ],
   "source": [
    "print(len(my_list))"
   ]
  },
  {
   "cell_type": "code",
   "execution_count": null,
   "id": "db11eed7",
   "metadata": {},
   "outputs": [],
   "source": []
  },
  {
   "cell_type": "code",
   "execution_count": null,
   "id": "4635ce36",
   "metadata": {},
   "outputs": [],
   "source": []
  },
  {
   "cell_type": "code",
   "execution_count": null,
   "id": "15799caa",
   "metadata": {},
   "outputs": [],
   "source": []
  },
  {
   "cell_type": "code",
   "execution_count": null,
   "id": "e772a565",
   "metadata": {},
   "outputs": [],
   "source": []
  }
 ],
 "metadata": {
  "kernelspec": {
   "display_name": "Python 3 (ipykernel)",
   "language": "python",
   "name": "python3"
  },
  "language_info": {
   "codemirror_mode": {
    "name": "ipython",
    "version": 3
   },
   "file_extension": ".py",
   "mimetype": "text/x-python",
   "name": "python",
   "nbconvert_exporter": "python",
   "pygments_lexer": "ipython3",
   "version": "3.10.9"
  }
 },
 "nbformat": 4,
 "nbformat_minor": 5
}
